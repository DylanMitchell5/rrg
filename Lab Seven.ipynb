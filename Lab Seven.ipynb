{
 "cells": [
  {
   "cell_type": "code",
   "execution_count": 1,
   "metadata": {},
   "outputs": [],
   "source": [
    "# Import ArcGIS package\n",
    "import arcpy\n",
    "\n",
    "# pandas to view LAS statistics\n",
    "import pandas as pd"
   ]
  },
  {
   "cell_type": "code",
   "execution_count": 2,
   "metadata": {},
   "outputs": [],
   "source": [
    "# Subprocess allows us to issue commands on the command line\n",
    "import subprocess"
   ]
  },
  {
   "cell_type": "code",
   "execution_count": 3,
   "metadata": {},
   "outputs": [
    {
     "name": "stdout",
     "output_type": "stream",
     "text": [
      " Volume in drive C is WINDOWS\r\n",
      " Volume Serial Number is 7A8F-990D\r\n",
      "\r\n",
      " Directory of C:\\DylanGIS\\rrg\r\n",
      "\r\n",
      "12/09/2019  12:45 PM    <DIR>          .\r\n",
      "12/09/2019  12:45 PM    <DIR>          ..\r\n",
      "09/04/2019  09:55 AM                66 .gitattributes\r\n",
      "09/04/2019  09:55 AM             1,694 .gitignore\r\n",
      "12/07/2019  05:20 PM    <DIR>          .ipynb_checkpoints\r\n",
      "10/24/2019  05:34 PM    <DIR>          info\r\n",
      "12/09/2019  12:45 PM            44,447 Lab Seven.ipynb\r\n",
      "12/09/2019  11:42 AM    <DIR>          LabSeven\r\n",
      "09/04/2019  09:55 AM            35,129 LICENSE\r\n",
      "12/03/2019  10:39 AM               216 readme.md\r\n",
      "10/24/2019  05:34 PM           748,546 RedRiverGorge.aprx\r\n",
      "09/10/2019  01:01 PM                 0 rrg\r\n",
      "10/24/2019  05:34 PM         2,626,615 rrgMap.pdf\r\n",
      "               8 File(s)      3,456,713 bytes\r\n",
      "               5 Dir(s)  874,652,233,728 bytes free\r\n",
      "\n"
     ]
    }
   ],
   "source": [
    "# Create a variable of the output and then decode it.\n",
    "completed = subprocess.run(f'dir',  shell=True, stdout=subprocess.PIPE)\n",
    "print(completed.stdout.decode('UTF-8'))"
   ]
  },
  {
   "cell_type": "code",
   "execution_count": 4,
   "metadata": {},
   "outputs": [],
   "source": [
    "# Directory for project \n",
    "out_directory = f'C:\\\\DylanGIS\\\\rrg\\\\'\n",
    "\n",
    "# Project name - creates a folder in project directory\n",
    "project = 'LabSeven'\n",
    "\n",
    "# Name of point layer and buffer distance from point\n",
    "point_name = 'LabSeven_pt'\n",
    "buffer_distance = 1000\n",
    "\n",
    "# Output geodatabase name\n",
    "out_geodb = 'LabSeven.gdb'\n",
    "\n",
    "# Locations of index grids\n",
    "las_grid = f'C:\\\\DylanGIS\\\\data\\\\data_pointcloud_grid\\\\lidar_grid.gdb\\\\KY_5k_PointClound_grid'\n",
    "naip_grid = f'C:\\\\DylanGIS\\\\data\\\\data_pointcloud_grid\\\\Kentucky_10K_NAIP.shp'\n",
    "\n",
    "# NAIP files have prefix\n",
    "naip_prefix = 'ky_2ft_naip_2016_'\n",
    "\n",
    "# Point the script to the directory with the laszip64.exe\n",
    "las_tools = [f'C:\\\\DylanGIS\\\\data\\\\data_pointcloud_grid\\\\', 'laszip64.exe']\n",
    "\n",
    "# Downloads and lidar folders\n",
    "downloads = f'{out_directory}{project}\\\\downloads\\\\'\n",
    "lidar = f'{out_directory}{project}\\\\lidar\\\\'\n",
    "lidar_color = f'{out_directory}{project}\\\\lidar_color\\\\'\n",
    "\n",
    "# LAS dataset name, temp list, and class codes\n",
    "las_dataset = f'{lidar}{project}.lasd'\n",
    "las_ground = [2]"
   ]
  },
  {
   "cell_type": "code",
   "execution_count": 5,
   "metadata": {},
   "outputs": [
    {
     "data": {
      "text/plain": [
       "CompletedProcess(args='mkdir C:\\\\DylanGIS\\\\rrg\\\\LabSeven\\\\lidar_color', returncode=1)"
      ]
     },
     "execution_count": 5,
     "metadata": {},
     "output_type": "execute_result"
    }
   ],
   "source": [
    "# Create folders and copy laszip64.exe\n",
    "subprocess.run(f'mkdir {out_directory}{project}', shell=True)\n",
    "subprocess.run(f'mkdir {out_directory}{project}\\\\downloads', shell=True)\n",
    "subprocess.run(f'mkdir {out_directory}{project}\\\\lidar', shell=True)\n",
    "subprocess.run(f'mkdir {out_directory}{project}\\\\lidar_color', shell=True)"
   ]
  },
  {
   "cell_type": "code",
   "execution_count": 6,
   "metadata": {},
   "outputs": [
    {
     "name": "stdout",
     "output_type": "stream",
     "text": [
      "        1 file(s) copied.\r\n",
      "\n"
     ]
    }
   ],
   "source": [
    "# Copy laszip64.exe tool\n",
    "completed = subprocess.run(f'copy {las_tools[0]}{las_tools[1]} {downloads}', shell=True, stdout=subprocess.PIPE)\n",
    "print(completed.stdout.decode('UTF-8'))"
   ]
  },
  {
   "cell_type": "code",
   "execution_count": 7,
   "metadata": {},
   "outputs": [
    {
     "name": "stdout",
     "output_type": "stream",
     "text": [
      "Created: LabSeven.gdb\n"
     ]
    }
   ],
   "source": [
    "arcpy.env.overwriteOutput = True\n",
    "\n",
    "# Create project geodatabase\n",
    "\n",
    "# Use ArcPY function to check if asset exists\n",
    "if arcpy.Exists(f'{out_directory}{project}\\\\{out_geodb}'):\n",
    "    # If it does, print out the location.\n",
    "    print(f\"{out_directory}{project}\\\\{out_geodb} geodatabase ready for action!\")\n",
    "else:\n",
    "    # Else if it doesn't create it and print location\n",
    "    arcpy.CreateFileGDB_management(f'{out_directory}{project}', out_geodb)\n",
    "    print(f\"Created: {out_geodb}\")\n",
    "\n",
    "\n",
    "# Create project default geodatabase\n",
    "out_path = f'{out_directory}{project}\\\\{out_geodb}'\n",
    "arcpy.env.workspace = out_path\n",
    "\n",
    "\n",
    "# Create default spatial reference setting\n",
    "spatial_reference = arcpy.Describe(las_grid).spatialReference"
   ]
  },
  {
   "cell_type": "code",
   "execution_count": 9,
   "metadata": {},
   "outputs": [
    {
     "data": {
      "text/plain": [
       "<Result 'C:\\\\DylanGIS\\\\rrg\\\\LabSeven\\\\LabSeven.gdb\\\\LabSeven_pt'>"
      ]
     },
     "execution_count": 9,
     "metadata": {},
     "output_type": "execute_result"
    }
   ],
   "source": [
    "# Create empty point layer\n",
    "arcpy.CreateFeatureclass_management(out_path, point_name, \"POINT\", \"#\", \"#\", \"#\", spatial_reference)"
   ]
  },
  {
   "cell_type": "code",
   "execution_count": 10,
   "metadata": {},
   "outputs": [
    {
     "name": "stdout",
     "output_type": "stream",
     "text": [
      "Check LabSeven_pt. We need one point. We have 0.\n"
     ]
    }
   ],
   "source": [
    "# Check for layer\n",
    "featureclasses = arcpy.ListFeatureClasses()\n",
    "\n",
    "for fc in featureclasses:\n",
    "    numberOfRecords = arcpy.GetCount_management(fc)\n",
    "    if numberOfRecords[0] == '1':\n",
    "        print(f\"{fc} is ready to go with {numberOfRecords} point!\")\n",
    "    else:\n",
    "        print(f\"Check {fc}. We need one point. We have {numberOfRecords}.\")"
   ]
  },
  {
   "cell_type": "code",
   "execution_count": 10,
   "metadata": {},
   "outputs": [
    {
     "data": {
      "text/plain": [
       "<Result 'C:\\\\DylanGIS\\\\rrg\\\\LabSeven\\\\workspace.gdb\\\\temp'>"
      ]
     },
     "execution_count": 10,
     "metadata": {},
     "output_type": "execute_result"
    }
   ],
   "source": [
    "# Buffer point\n",
    "arcpy.Buffer_analysis(point_name, f'{point_name}_{buffer_distance}ft', buffer_distance)\n",
    "\n",
    "\n",
    "# Create a temp layer to find which LAS files to download\n",
    "arcpy.Intersect_analysis ([f'{point_name}_{buffer_distance}ft', las_grid], \"temp\")"
   ]
  },
  {
   "cell_type": "code",
   "execution_count": 11,
   "metadata": {},
   "outputs": [
    {
     "name": "stdout",
     "output_type": "stream",
     "text": [
      "[('N106E351.laz', 'ftp://ftp.kymartian.ky.gov/kyaped/LAZ/N106E351.laz'), ('N107E351.laz', 'ftp://ftp.kymartian.ky.gov/kyaped/LAZ/N107E351.laz'), ('N107E352.laz', 'ftp://ftp.kymartian.ky.gov/kyaped/LAZ/N107E352.laz'), ('N106E351.laz', 'ftp://ftp.kymartian.ky.gov/kyaped/LAZ/N106E351.laz'), ('N106E352.laz', 'ftp://ftp.kymartian.ky.gov/kyaped/LAZ/N106E352.laz'), ('N107E352.laz', 'ftp://ftp.kymartian.ky.gov/kyaped/LAZ/N107E352.laz'), ('N106E351.laz', 'ftp://ftp.kymartian.ky.gov/kyaped/LAZ/N106E351.laz'), ('N106E351.laz', 'ftp://ftp.kymartian.ky.gov/kyaped/LAZ/N106E351.laz'), ('N106E352.laz', 'ftp://ftp.kymartian.ky.gov/kyaped/LAZ/N106E352.laz'), ('N106E352.laz', 'ftp://ftp.kymartian.ky.gov/kyaped/LAZ/N106E352.laz'), ('N107E351.laz', 'ftp://ftp.kymartian.ky.gov/kyaped/LAZ/N107E351.laz'), ('N107E351.laz', 'ftp://ftp.kymartian.ky.gov/kyaped/LAZ/N107E351.laz'), ('N107E352.laz', 'ftp://ftp.kymartian.ky.gov/kyaped/LAZ/N107E352.laz'), ('N107E352.laz', 'ftp://ftp.kymartian.ky.gov/kyaped/LAZ/N107E352.laz')]\n"
     ]
    }
   ],
   "source": [
    "# Find URLs and download them and use laszip64.exe to convert \n",
    "cursor = arcpy.da.SearchCursor(\"temp\", ['ftppath', 'LASVersion', 'Year'])\n",
    "i = 0\n",
    "las_names = []\n",
    "for row in cursor:\n",
    "    url = row[0]\n",
    "    name = url[-12:]\n",
    "    las_names.append((f'{url[-12:-4]}.laz', url))\n",
    "    i += 1\n",
    "print(las_names)"
   ]
  },
  {
   "cell_type": "code",
   "execution_count": 12,
   "metadata": {},
   "outputs": [
    {
     "name": "stdout",
     "output_type": "stream",
     "text": [
      "ftp://ftp.kymartian.ky.gov/kyaped/LAZ/N106E351.laz\n",
      "C:\\DylanGIS\\rrg\\LabSeven\\lidar\\\n",
      "[]\n",
      "['C:\\\\DylanGIS\\\\rrg\\\\LabSeven\\\\lidar\\\\N106E351.las']\n",
      "C:\\DylanGIS\\rrg\\LabSeven\\downloads\\laszip64.exe -i C:\\DylanGIS\\rrg\\LabSeven\\downloads\\N106E351.laz -o C:\\DylanGIS\\rrg\\LabSeven\\lidar\\N106E351.las\n",
      "\n",
      "ftp://ftp.kymartian.ky.gov/kyaped/LAZ/N107E351.laz\n",
      "C:\\DylanGIS\\rrg\\LabSeven\\lidar\\\n",
      "['C:\\\\DylanGIS\\\\rrg\\\\LabSeven\\\\lidar\\\\N106E351.las']\n",
      "['C:\\\\DylanGIS\\\\rrg\\\\LabSeven\\\\lidar\\\\N106E351.las', 'C:\\\\DylanGIS\\\\rrg\\\\LabSeven\\\\lidar\\\\N107E351.las']\n",
      "C:\\DylanGIS\\rrg\\LabSeven\\downloads\\laszip64.exe -i C:\\DylanGIS\\rrg\\LabSeven\\downloads\\N107E351.laz -o C:\\DylanGIS\\rrg\\LabSeven\\lidar\\N107E351.las\n",
      "\n",
      "ftp://ftp.kymartian.ky.gov/kyaped/LAZ/N107E352.laz\n",
      "C:\\DylanGIS\\rrg\\LabSeven\\lidar\\\n",
      "['C:\\\\DylanGIS\\\\rrg\\\\LabSeven\\\\lidar\\\\N106E351.las', 'C:\\\\DylanGIS\\\\rrg\\\\LabSeven\\\\lidar\\\\N107E351.las']\n",
      "['C:\\\\DylanGIS\\\\rrg\\\\LabSeven\\\\lidar\\\\N106E351.las', 'C:\\\\DylanGIS\\\\rrg\\\\LabSeven\\\\lidar\\\\N107E351.las', 'C:\\\\DylanGIS\\\\rrg\\\\LabSeven\\\\lidar\\\\N107E352.las']\n",
      "C:\\DylanGIS\\rrg\\LabSeven\\downloads\\laszip64.exe -i C:\\DylanGIS\\rrg\\LabSeven\\downloads\\N107E352.laz -o C:\\DylanGIS\\rrg\\LabSeven\\lidar\\N107E352.las\n",
      "\n",
      "ftp://ftp.kymartian.ky.gov/kyaped/LAZ/N106E351.laz\n",
      "C:\\DylanGIS\\rrg\\LabSeven\\lidar\\\n",
      "['C:\\\\DylanGIS\\\\rrg\\\\LabSeven\\\\lidar\\\\N106E351.las', 'C:\\\\DylanGIS\\\\rrg\\\\LabSeven\\\\lidar\\\\N107E351.las', 'C:\\\\DylanGIS\\\\rrg\\\\LabSeven\\\\lidar\\\\N107E352.las']\n",
      "['C:\\\\DylanGIS\\\\rrg\\\\LabSeven\\\\lidar\\\\N106E351.las', 'C:\\\\DylanGIS\\\\rrg\\\\LabSeven\\\\lidar\\\\N107E351.las', 'C:\\\\DylanGIS\\\\rrg\\\\LabSeven\\\\lidar\\\\N107E352.las', 'C:\\\\DylanGIS\\\\rrg\\\\LabSeven\\\\lidar\\\\N106E351.las']\n",
      "C:\\DylanGIS\\rrg\\LabSeven\\downloads\\laszip64.exe -i C:\\DylanGIS\\rrg\\LabSeven\\downloads\\N106E351.laz -o C:\\DylanGIS\\rrg\\LabSeven\\lidar\\N106E351.las\n",
      "\n",
      "ftp://ftp.kymartian.ky.gov/kyaped/LAZ/N106E352.laz\n",
      "C:\\DylanGIS\\rrg\\LabSeven\\lidar\\\n",
      "['C:\\\\DylanGIS\\\\rrg\\\\LabSeven\\\\lidar\\\\N106E351.las', 'C:\\\\DylanGIS\\\\rrg\\\\LabSeven\\\\lidar\\\\N107E351.las', 'C:\\\\DylanGIS\\\\rrg\\\\LabSeven\\\\lidar\\\\N107E352.las', 'C:\\\\DylanGIS\\\\rrg\\\\LabSeven\\\\lidar\\\\N106E351.las']\n",
      "['C:\\\\DylanGIS\\\\rrg\\\\LabSeven\\\\lidar\\\\N106E351.las', 'C:\\\\DylanGIS\\\\rrg\\\\LabSeven\\\\lidar\\\\N107E351.las', 'C:\\\\DylanGIS\\\\rrg\\\\LabSeven\\\\lidar\\\\N107E352.las', 'C:\\\\DylanGIS\\\\rrg\\\\LabSeven\\\\lidar\\\\N106E351.las', 'C:\\\\DylanGIS\\\\rrg\\\\LabSeven\\\\lidar\\\\N106E352.las']\n",
      "C:\\DylanGIS\\rrg\\LabSeven\\downloads\\laszip64.exe -i C:\\DylanGIS\\rrg\\LabSeven\\downloads\\N106E352.laz -o C:\\DylanGIS\\rrg\\LabSeven\\lidar\\N106E352.las\n",
      "\n",
      "ftp://ftp.kymartian.ky.gov/kyaped/LAZ/N107E352.laz\n",
      "C:\\DylanGIS\\rrg\\LabSeven\\lidar\\\n",
      "['C:\\\\DylanGIS\\\\rrg\\\\LabSeven\\\\lidar\\\\N106E351.las', 'C:\\\\DylanGIS\\\\rrg\\\\LabSeven\\\\lidar\\\\N107E351.las', 'C:\\\\DylanGIS\\\\rrg\\\\LabSeven\\\\lidar\\\\N107E352.las', 'C:\\\\DylanGIS\\\\rrg\\\\LabSeven\\\\lidar\\\\N106E351.las', 'C:\\\\DylanGIS\\\\rrg\\\\LabSeven\\\\lidar\\\\N106E352.las']\n",
      "['C:\\\\DylanGIS\\\\rrg\\\\LabSeven\\\\lidar\\\\N106E351.las', 'C:\\\\DylanGIS\\\\rrg\\\\LabSeven\\\\lidar\\\\N107E351.las', 'C:\\\\DylanGIS\\\\rrg\\\\LabSeven\\\\lidar\\\\N107E352.las', 'C:\\\\DylanGIS\\\\rrg\\\\LabSeven\\\\lidar\\\\N106E351.las', 'C:\\\\DylanGIS\\\\rrg\\\\LabSeven\\\\lidar\\\\N106E352.las', 'C:\\\\DylanGIS\\\\rrg\\\\LabSeven\\\\lidar\\\\N107E352.las']\n",
      "C:\\DylanGIS\\rrg\\LabSeven\\downloads\\laszip64.exe -i C:\\DylanGIS\\rrg\\LabSeven\\downloads\\N107E352.laz -o C:\\DylanGIS\\rrg\\LabSeven\\lidar\\N107E352.las\n",
      "\n",
      "ftp://ftp.kymartian.ky.gov/kyaped/LAZ/N106E351.laz\n",
      "C:\\DylanGIS\\rrg\\LabSeven\\lidar\\\n",
      "['C:\\\\DylanGIS\\\\rrg\\\\LabSeven\\\\lidar\\\\N106E351.las', 'C:\\\\DylanGIS\\\\rrg\\\\LabSeven\\\\lidar\\\\N107E351.las', 'C:\\\\DylanGIS\\\\rrg\\\\LabSeven\\\\lidar\\\\N107E352.las', 'C:\\\\DylanGIS\\\\rrg\\\\LabSeven\\\\lidar\\\\N106E351.las', 'C:\\\\DylanGIS\\\\rrg\\\\LabSeven\\\\lidar\\\\N106E352.las', 'C:\\\\DylanGIS\\\\rrg\\\\LabSeven\\\\lidar\\\\N107E352.las']\n",
      "['C:\\\\DylanGIS\\\\rrg\\\\LabSeven\\\\lidar\\\\N106E351.las', 'C:\\\\DylanGIS\\\\rrg\\\\LabSeven\\\\lidar\\\\N107E351.las', 'C:\\\\DylanGIS\\\\rrg\\\\LabSeven\\\\lidar\\\\N107E352.las', 'C:\\\\DylanGIS\\\\rrg\\\\LabSeven\\\\lidar\\\\N106E351.las', 'C:\\\\DylanGIS\\\\rrg\\\\LabSeven\\\\lidar\\\\N106E352.las', 'C:\\\\DylanGIS\\\\rrg\\\\LabSeven\\\\lidar\\\\N107E352.las', 'C:\\\\DylanGIS\\\\rrg\\\\LabSeven\\\\lidar\\\\N106E351.las']\n",
      "C:\\DylanGIS\\rrg\\LabSeven\\downloads\\laszip64.exe -i C:\\DylanGIS\\rrg\\LabSeven\\downloads\\N106E351.laz -o C:\\DylanGIS\\rrg\\LabSeven\\lidar\\N106E351.las\n",
      "\n",
      "ftp://ftp.kymartian.ky.gov/kyaped/LAZ/N106E351.laz\n",
      "C:\\DylanGIS\\rrg\\LabSeven\\lidar\\\n",
      "['C:\\\\DylanGIS\\\\rrg\\\\LabSeven\\\\lidar\\\\N106E351.las', 'C:\\\\DylanGIS\\\\rrg\\\\LabSeven\\\\lidar\\\\N107E351.las', 'C:\\\\DylanGIS\\\\rrg\\\\LabSeven\\\\lidar\\\\N107E352.las', 'C:\\\\DylanGIS\\\\rrg\\\\LabSeven\\\\lidar\\\\N106E351.las', 'C:\\\\DylanGIS\\\\rrg\\\\LabSeven\\\\lidar\\\\N106E352.las', 'C:\\\\DylanGIS\\\\rrg\\\\LabSeven\\\\lidar\\\\N107E352.las', 'C:\\\\DylanGIS\\\\rrg\\\\LabSeven\\\\lidar\\\\N106E351.las']\n",
      "['C:\\\\DylanGIS\\\\rrg\\\\LabSeven\\\\lidar\\\\N106E351.las', 'C:\\\\DylanGIS\\\\rrg\\\\LabSeven\\\\lidar\\\\N107E351.las', 'C:\\\\DylanGIS\\\\rrg\\\\LabSeven\\\\lidar\\\\N107E352.las', 'C:\\\\DylanGIS\\\\rrg\\\\LabSeven\\\\lidar\\\\N106E351.las', 'C:\\\\DylanGIS\\\\rrg\\\\LabSeven\\\\lidar\\\\N106E352.las', 'C:\\\\DylanGIS\\\\rrg\\\\LabSeven\\\\lidar\\\\N107E352.las', 'C:\\\\DylanGIS\\\\rrg\\\\LabSeven\\\\lidar\\\\N106E351.las', 'C:\\\\DylanGIS\\\\rrg\\\\LabSeven\\\\lidar\\\\N106E351.las']\n",
      "C:\\DylanGIS\\rrg\\LabSeven\\downloads\\laszip64.exe -i C:\\DylanGIS\\rrg\\LabSeven\\downloads\\N106E351.laz -o C:\\DylanGIS\\rrg\\LabSeven\\lidar\\N106E351.las\n",
      "\n",
      "ftp://ftp.kymartian.ky.gov/kyaped/LAZ/N106E352.laz\n",
      "C:\\DylanGIS\\rrg\\LabSeven\\lidar\\\n",
      "['C:\\\\DylanGIS\\\\rrg\\\\LabSeven\\\\lidar\\\\N106E351.las', 'C:\\\\DylanGIS\\\\rrg\\\\LabSeven\\\\lidar\\\\N107E351.las', 'C:\\\\DylanGIS\\\\rrg\\\\LabSeven\\\\lidar\\\\N107E352.las', 'C:\\\\DylanGIS\\\\rrg\\\\LabSeven\\\\lidar\\\\N106E351.las', 'C:\\\\DylanGIS\\\\rrg\\\\LabSeven\\\\lidar\\\\N106E352.las', 'C:\\\\DylanGIS\\\\rrg\\\\LabSeven\\\\lidar\\\\N107E352.las', 'C:\\\\DylanGIS\\\\rrg\\\\LabSeven\\\\lidar\\\\N106E351.las', 'C:\\\\DylanGIS\\\\rrg\\\\LabSeven\\\\lidar\\\\N106E351.las']\n",
      "['C:\\\\DylanGIS\\\\rrg\\\\LabSeven\\\\lidar\\\\N106E351.las', 'C:\\\\DylanGIS\\\\rrg\\\\LabSeven\\\\lidar\\\\N107E351.las', 'C:\\\\DylanGIS\\\\rrg\\\\LabSeven\\\\lidar\\\\N107E352.las', 'C:\\\\DylanGIS\\\\rrg\\\\LabSeven\\\\lidar\\\\N106E351.las', 'C:\\\\DylanGIS\\\\rrg\\\\LabSeven\\\\lidar\\\\N106E352.las', 'C:\\\\DylanGIS\\\\rrg\\\\LabSeven\\\\lidar\\\\N107E352.las', 'C:\\\\DylanGIS\\\\rrg\\\\LabSeven\\\\lidar\\\\N106E351.las', 'C:\\\\DylanGIS\\\\rrg\\\\LabSeven\\\\lidar\\\\N106E351.las', 'C:\\\\DylanGIS\\\\rrg\\\\LabSeven\\\\lidar\\\\N106E352.las']\n",
      "C:\\DylanGIS\\rrg\\LabSeven\\downloads\\laszip64.exe -i C:\\DylanGIS\\rrg\\LabSeven\\downloads\\N106E352.laz -o C:\\DylanGIS\\rrg\\LabSeven\\lidar\\N106E352.las\n",
      "\n",
      "ftp://ftp.kymartian.ky.gov/kyaped/LAZ/N106E352.laz\n",
      "C:\\DylanGIS\\rrg\\LabSeven\\lidar\\\n",
      "['C:\\\\DylanGIS\\\\rrg\\\\LabSeven\\\\lidar\\\\N106E351.las', 'C:\\\\DylanGIS\\\\rrg\\\\LabSeven\\\\lidar\\\\N107E351.las', 'C:\\\\DylanGIS\\\\rrg\\\\LabSeven\\\\lidar\\\\N107E352.las', 'C:\\\\DylanGIS\\\\rrg\\\\LabSeven\\\\lidar\\\\N106E351.las', 'C:\\\\DylanGIS\\\\rrg\\\\LabSeven\\\\lidar\\\\N106E352.las', 'C:\\\\DylanGIS\\\\rrg\\\\LabSeven\\\\lidar\\\\N107E352.las', 'C:\\\\DylanGIS\\\\rrg\\\\LabSeven\\\\lidar\\\\N106E351.las', 'C:\\\\DylanGIS\\\\rrg\\\\LabSeven\\\\lidar\\\\N106E351.las', 'C:\\\\DylanGIS\\\\rrg\\\\LabSeven\\\\lidar\\\\N106E352.las']\n",
      "['C:\\\\DylanGIS\\\\rrg\\\\LabSeven\\\\lidar\\\\N106E351.las', 'C:\\\\DylanGIS\\\\rrg\\\\LabSeven\\\\lidar\\\\N107E351.las', 'C:\\\\DylanGIS\\\\rrg\\\\LabSeven\\\\lidar\\\\N107E352.las', 'C:\\\\DylanGIS\\\\rrg\\\\LabSeven\\\\lidar\\\\N106E351.las', 'C:\\\\DylanGIS\\\\rrg\\\\LabSeven\\\\lidar\\\\N106E352.las', 'C:\\\\DylanGIS\\\\rrg\\\\LabSeven\\\\lidar\\\\N107E352.las', 'C:\\\\DylanGIS\\\\rrg\\\\LabSeven\\\\lidar\\\\N106E351.las', 'C:\\\\DylanGIS\\\\rrg\\\\LabSeven\\\\lidar\\\\N106E351.las', 'C:\\\\DylanGIS\\\\rrg\\\\LabSeven\\\\lidar\\\\N106E352.las', 'C:\\\\DylanGIS\\\\rrg\\\\LabSeven\\\\lidar\\\\N106E352.las']\n",
      "C:\\DylanGIS\\rrg\\LabSeven\\downloads\\laszip64.exe -i C:\\DylanGIS\\rrg\\LabSeven\\downloads\\N106E352.laz -o C:\\DylanGIS\\rrg\\LabSeven\\lidar\\N106E352.las\n",
      "\n",
      "ftp://ftp.kymartian.ky.gov/kyaped/LAZ/N107E351.laz\n",
      "C:\\DylanGIS\\rrg\\LabSeven\\lidar\\\n",
      "['C:\\\\DylanGIS\\\\rrg\\\\LabSeven\\\\lidar\\\\N106E351.las', 'C:\\\\DylanGIS\\\\rrg\\\\LabSeven\\\\lidar\\\\N107E351.las', 'C:\\\\DylanGIS\\\\rrg\\\\LabSeven\\\\lidar\\\\N107E352.las', 'C:\\\\DylanGIS\\\\rrg\\\\LabSeven\\\\lidar\\\\N106E351.las', 'C:\\\\DylanGIS\\\\rrg\\\\LabSeven\\\\lidar\\\\N106E352.las', 'C:\\\\DylanGIS\\\\rrg\\\\LabSeven\\\\lidar\\\\N107E352.las', 'C:\\\\DylanGIS\\\\rrg\\\\LabSeven\\\\lidar\\\\N106E351.las', 'C:\\\\DylanGIS\\\\rrg\\\\LabSeven\\\\lidar\\\\N106E351.las', 'C:\\\\DylanGIS\\\\rrg\\\\LabSeven\\\\lidar\\\\N106E352.las', 'C:\\\\DylanGIS\\\\rrg\\\\LabSeven\\\\lidar\\\\N106E352.las']\n",
      "['C:\\\\DylanGIS\\\\rrg\\\\LabSeven\\\\lidar\\\\N106E351.las', 'C:\\\\DylanGIS\\\\rrg\\\\LabSeven\\\\lidar\\\\N107E351.las', 'C:\\\\DylanGIS\\\\rrg\\\\LabSeven\\\\lidar\\\\N107E352.las', 'C:\\\\DylanGIS\\\\rrg\\\\LabSeven\\\\lidar\\\\N106E351.las', 'C:\\\\DylanGIS\\\\rrg\\\\LabSeven\\\\lidar\\\\N106E352.las', 'C:\\\\DylanGIS\\\\rrg\\\\LabSeven\\\\lidar\\\\N107E352.las', 'C:\\\\DylanGIS\\\\rrg\\\\LabSeven\\\\lidar\\\\N106E351.las', 'C:\\\\DylanGIS\\\\rrg\\\\LabSeven\\\\lidar\\\\N106E351.las', 'C:\\\\DylanGIS\\\\rrg\\\\LabSeven\\\\lidar\\\\N106E352.las', 'C:\\\\DylanGIS\\\\rrg\\\\LabSeven\\\\lidar\\\\N106E352.las', 'C:\\\\DylanGIS\\\\rrg\\\\LabSeven\\\\lidar\\\\N107E351.las']\n",
      "C:\\DylanGIS\\rrg\\LabSeven\\downloads\\laszip64.exe -i C:\\DylanGIS\\rrg\\LabSeven\\downloads\\N107E351.laz -o C:\\DylanGIS\\rrg\\LabSeven\\lidar\\N107E351.las\n"
     ]
    },
    {
     "name": "stdout",
     "output_type": "stream",
     "text": [
      "\n",
      "ftp://ftp.kymartian.ky.gov/kyaped/LAZ/N107E351.laz\n",
      "C:\\DylanGIS\\rrg\\LabSeven\\lidar\\\n",
      "['C:\\\\DylanGIS\\\\rrg\\\\LabSeven\\\\lidar\\\\N106E351.las', 'C:\\\\DylanGIS\\\\rrg\\\\LabSeven\\\\lidar\\\\N107E351.las', 'C:\\\\DylanGIS\\\\rrg\\\\LabSeven\\\\lidar\\\\N107E352.las', 'C:\\\\DylanGIS\\\\rrg\\\\LabSeven\\\\lidar\\\\N106E351.las', 'C:\\\\DylanGIS\\\\rrg\\\\LabSeven\\\\lidar\\\\N106E352.las', 'C:\\\\DylanGIS\\\\rrg\\\\LabSeven\\\\lidar\\\\N107E352.las', 'C:\\\\DylanGIS\\\\rrg\\\\LabSeven\\\\lidar\\\\N106E351.las', 'C:\\\\DylanGIS\\\\rrg\\\\LabSeven\\\\lidar\\\\N106E351.las', 'C:\\\\DylanGIS\\\\rrg\\\\LabSeven\\\\lidar\\\\N106E352.las', 'C:\\\\DylanGIS\\\\rrg\\\\LabSeven\\\\lidar\\\\N106E352.las', 'C:\\\\DylanGIS\\\\rrg\\\\LabSeven\\\\lidar\\\\N107E351.las']\n",
      "['C:\\\\DylanGIS\\\\rrg\\\\LabSeven\\\\lidar\\\\N106E351.las', 'C:\\\\DylanGIS\\\\rrg\\\\LabSeven\\\\lidar\\\\N107E351.las', 'C:\\\\DylanGIS\\\\rrg\\\\LabSeven\\\\lidar\\\\N107E352.las', 'C:\\\\DylanGIS\\\\rrg\\\\LabSeven\\\\lidar\\\\N106E351.las', 'C:\\\\DylanGIS\\\\rrg\\\\LabSeven\\\\lidar\\\\N106E352.las', 'C:\\\\DylanGIS\\\\rrg\\\\LabSeven\\\\lidar\\\\N107E352.las', 'C:\\\\DylanGIS\\\\rrg\\\\LabSeven\\\\lidar\\\\N106E351.las', 'C:\\\\DylanGIS\\\\rrg\\\\LabSeven\\\\lidar\\\\N106E351.las', 'C:\\\\DylanGIS\\\\rrg\\\\LabSeven\\\\lidar\\\\N106E352.las', 'C:\\\\DylanGIS\\\\rrg\\\\LabSeven\\\\lidar\\\\N106E352.las', 'C:\\\\DylanGIS\\\\rrg\\\\LabSeven\\\\lidar\\\\N107E351.las', 'C:\\\\DylanGIS\\\\rrg\\\\LabSeven\\\\lidar\\\\N107E351.las']\n",
      "C:\\DylanGIS\\rrg\\LabSeven\\downloads\\laszip64.exe -i C:\\DylanGIS\\rrg\\LabSeven\\downloads\\N107E351.laz -o C:\\DylanGIS\\rrg\\LabSeven\\lidar\\N107E351.las\n",
      "\n",
      "ftp://ftp.kymartian.ky.gov/kyaped/LAZ/N107E352.laz\n",
      "C:\\DylanGIS\\rrg\\LabSeven\\lidar\\\n",
      "['C:\\\\DylanGIS\\\\rrg\\\\LabSeven\\\\lidar\\\\N106E351.las', 'C:\\\\DylanGIS\\\\rrg\\\\LabSeven\\\\lidar\\\\N107E351.las', 'C:\\\\DylanGIS\\\\rrg\\\\LabSeven\\\\lidar\\\\N107E352.las', 'C:\\\\DylanGIS\\\\rrg\\\\LabSeven\\\\lidar\\\\N106E351.las', 'C:\\\\DylanGIS\\\\rrg\\\\LabSeven\\\\lidar\\\\N106E352.las', 'C:\\\\DylanGIS\\\\rrg\\\\LabSeven\\\\lidar\\\\N107E352.las', 'C:\\\\DylanGIS\\\\rrg\\\\LabSeven\\\\lidar\\\\N106E351.las', 'C:\\\\DylanGIS\\\\rrg\\\\LabSeven\\\\lidar\\\\N106E351.las', 'C:\\\\DylanGIS\\\\rrg\\\\LabSeven\\\\lidar\\\\N106E352.las', 'C:\\\\DylanGIS\\\\rrg\\\\LabSeven\\\\lidar\\\\N106E352.las', 'C:\\\\DylanGIS\\\\rrg\\\\LabSeven\\\\lidar\\\\N107E351.las', 'C:\\\\DylanGIS\\\\rrg\\\\LabSeven\\\\lidar\\\\N107E351.las']\n",
      "['C:\\\\DylanGIS\\\\rrg\\\\LabSeven\\\\lidar\\\\N106E351.las', 'C:\\\\DylanGIS\\\\rrg\\\\LabSeven\\\\lidar\\\\N107E351.las', 'C:\\\\DylanGIS\\\\rrg\\\\LabSeven\\\\lidar\\\\N107E352.las', 'C:\\\\DylanGIS\\\\rrg\\\\LabSeven\\\\lidar\\\\N106E351.las', 'C:\\\\DylanGIS\\\\rrg\\\\LabSeven\\\\lidar\\\\N106E352.las', 'C:\\\\DylanGIS\\\\rrg\\\\LabSeven\\\\lidar\\\\N107E352.las', 'C:\\\\DylanGIS\\\\rrg\\\\LabSeven\\\\lidar\\\\N106E351.las', 'C:\\\\DylanGIS\\\\rrg\\\\LabSeven\\\\lidar\\\\N106E351.las', 'C:\\\\DylanGIS\\\\rrg\\\\LabSeven\\\\lidar\\\\N106E352.las', 'C:\\\\DylanGIS\\\\rrg\\\\LabSeven\\\\lidar\\\\N106E352.las', 'C:\\\\DylanGIS\\\\rrg\\\\LabSeven\\\\lidar\\\\N107E351.las', 'C:\\\\DylanGIS\\\\rrg\\\\LabSeven\\\\lidar\\\\N107E351.las', 'C:\\\\DylanGIS\\\\rrg\\\\LabSeven\\\\lidar\\\\N107E352.las']\n",
      "C:\\DylanGIS\\rrg\\LabSeven\\downloads\\laszip64.exe -i C:\\DylanGIS\\rrg\\LabSeven\\downloads\\N107E352.laz -o C:\\DylanGIS\\rrg\\LabSeven\\lidar\\N107E352.las\n",
      "\n",
      "ftp://ftp.kymartian.ky.gov/kyaped/LAZ/N107E352.laz\n",
      "C:\\DylanGIS\\rrg\\LabSeven\\lidar\\\n",
      "['C:\\\\DylanGIS\\\\rrg\\\\LabSeven\\\\lidar\\\\N106E351.las', 'C:\\\\DylanGIS\\\\rrg\\\\LabSeven\\\\lidar\\\\N107E351.las', 'C:\\\\DylanGIS\\\\rrg\\\\LabSeven\\\\lidar\\\\N107E352.las', 'C:\\\\DylanGIS\\\\rrg\\\\LabSeven\\\\lidar\\\\N106E351.las', 'C:\\\\DylanGIS\\\\rrg\\\\LabSeven\\\\lidar\\\\N106E352.las', 'C:\\\\DylanGIS\\\\rrg\\\\LabSeven\\\\lidar\\\\N107E352.las', 'C:\\\\DylanGIS\\\\rrg\\\\LabSeven\\\\lidar\\\\N106E351.las', 'C:\\\\DylanGIS\\\\rrg\\\\LabSeven\\\\lidar\\\\N106E351.las', 'C:\\\\DylanGIS\\\\rrg\\\\LabSeven\\\\lidar\\\\N106E352.las', 'C:\\\\DylanGIS\\\\rrg\\\\LabSeven\\\\lidar\\\\N106E352.las', 'C:\\\\DylanGIS\\\\rrg\\\\LabSeven\\\\lidar\\\\N107E351.las', 'C:\\\\DylanGIS\\\\rrg\\\\LabSeven\\\\lidar\\\\N107E351.las', 'C:\\\\DylanGIS\\\\rrg\\\\LabSeven\\\\lidar\\\\N107E352.las']\n",
      "['C:\\\\DylanGIS\\\\rrg\\\\LabSeven\\\\lidar\\\\N106E351.las', 'C:\\\\DylanGIS\\\\rrg\\\\LabSeven\\\\lidar\\\\N107E351.las', 'C:\\\\DylanGIS\\\\rrg\\\\LabSeven\\\\lidar\\\\N107E352.las', 'C:\\\\DylanGIS\\\\rrg\\\\LabSeven\\\\lidar\\\\N106E351.las', 'C:\\\\DylanGIS\\\\rrg\\\\LabSeven\\\\lidar\\\\N106E352.las', 'C:\\\\DylanGIS\\\\rrg\\\\LabSeven\\\\lidar\\\\N107E352.las', 'C:\\\\DylanGIS\\\\rrg\\\\LabSeven\\\\lidar\\\\N106E351.las', 'C:\\\\DylanGIS\\\\rrg\\\\LabSeven\\\\lidar\\\\N106E351.las', 'C:\\\\DylanGIS\\\\rrg\\\\LabSeven\\\\lidar\\\\N106E352.las', 'C:\\\\DylanGIS\\\\rrg\\\\LabSeven\\\\lidar\\\\N106E352.las', 'C:\\\\DylanGIS\\\\rrg\\\\LabSeven\\\\lidar\\\\N107E351.las', 'C:\\\\DylanGIS\\\\rrg\\\\LabSeven\\\\lidar\\\\N107E351.las', 'C:\\\\DylanGIS\\\\rrg\\\\LabSeven\\\\lidar\\\\N107E352.las', 'C:\\\\DylanGIS\\\\rrg\\\\LabSeven\\\\lidar\\\\N107E352.las']\n",
      "C:\\DylanGIS\\rrg\\LabSeven\\downloads\\laszip64.exe -i C:\\DylanGIS\\rrg\\LabSeven\\downloads\\N107E352.laz -o C:\\DylanGIS\\rrg\\LabSeven\\lidar\\N107E352.las\n",
      "\n"
     ]
    }
   ],
   "source": [
    "# Use laszip64.exe to convert \n",
    "cursor = arcpy.da.SearchCursor(\"temp\", ['ftppath', 'LASVersion', 'Year'])\n",
    "las_names = []\n",
    "i = 0\n",
    "for row in cursor:\n",
    "    url = row[0]\n",
    "    print(url)\n",
    "    name = url[-12:]\n",
    "    print(lidar)\n",
    "    print(las_names)\n",
    "    las_names.append(f'{lidar}{url[-12:-4]}.las')\n",
    "    print(las_names)\n",
    "    print(f'{downloads}{las_tools[1]} -i {downloads}{name} -o {las_names[i]}')\n",
    "    completed = subprocess.run(f'{downloads}{las_tools[1]} -i {downloads}{name} -o {las_names[i]}', shell=True, stdout=subprocess.PIPE)\n",
    "    print(completed.stdout.decode('UTF-8'))\n",
    "    i += 1"
   ]
  },
  {
   "cell_type": "code",
   "execution_count": 16,
   "metadata": {},
   "outputs": [
    {
     "data": {
      "text/plain": [
       "<Result 'C:\\\\DylanGIS\\\\rrg\\\\LabSeven\\\\lidar\\\\LabSeven.lasd'>"
      ]
     },
     "execution_count": 16,
     "metadata": {},
     "output_type": "execute_result"
    }
   ],
   "source": [
    "arcpy.CreateLasDataset_management (las_names, las_dataset, \"#\", \"#\", spatial_reference, True, True)"
   ]
  },
  {
   "cell_type": "code",
   "execution_count": 24,
   "metadata": {},
   "outputs": [
    {
     "data": {
      "text/html": [
       "<div>\n",
       "<style scoped>\n",
       "    .dataframe tbody tr th:only-of-type {\n",
       "        vertical-align: middle;\n",
       "    }\n",
       "\n",
       "    .dataframe tbody tr th {\n",
       "        vertical-align: top;\n",
       "    }\n",
       "\n",
       "    .dataframe thead th {\n",
       "        text-align: right;\n",
       "    }\n",
       "</style>\n",
       "<table border=\"1\" class=\"dataframe\">\n",
       "  <thead>\n",
       "    <tr style=\"text-align: right;\">\n",
       "      <th></th>\n",
       "      <th>Item</th>\n",
       "      <th>Category</th>\n",
       "      <th>Pt_Cnt</th>\n",
       "      <th>Percent</th>\n",
       "      <th>Z_Min</th>\n",
       "      <th>Z_Max</th>\n",
       "      <th>Intensity_Min</th>\n",
       "      <th>Intensity_Max</th>\n",
       "      <th>Synthetic_Pt_Cnt</th>\n",
       "      <th>Range_Min</th>\n",
       "      <th>Range_Max</th>\n",
       "    </tr>\n",
       "  </thead>\n",
       "  <tbody>\n",
       "    <tr>\n",
       "      <th>12</th>\n",
       "      <td>1_Unclassified</td>\n",
       "      <td>ClassCodes</td>\n",
       "      <td>55325281.0</td>\n",
       "      <td>79.70</td>\n",
       "      <td>681.72</td>\n",
       "      <td>1329.68</td>\n",
       "      <td>0.0</td>\n",
       "      <td>255.0</td>\n",
       "      <td>0.0</td>\n",
       "      <td>NaN</td>\n",
       "      <td>NaN</td>\n",
       "    </tr>\n",
       "    <tr>\n",
       "      <th>13</th>\n",
       "      <td>2_Ground</td>\n",
       "      <td>ClassCodes</td>\n",
       "      <td>14060647.0</td>\n",
       "      <td>20.25</td>\n",
       "      <td>681.42</td>\n",
       "      <td>1253.38</td>\n",
       "      <td>0.0</td>\n",
       "      <td>255.0</td>\n",
       "      <td>0.0</td>\n",
       "      <td>NaN</td>\n",
       "      <td>NaN</td>\n",
       "    </tr>\n",
       "    <tr>\n",
       "      <th>14</th>\n",
       "      <td>7_Low_Point(noise)</td>\n",
       "      <td>ClassCodes</td>\n",
       "      <td>33993.0</td>\n",
       "      <td>0.05</td>\n",
       "      <td>615.28</td>\n",
       "      <td>2307.31</td>\n",
       "      <td>0.0</td>\n",
       "      <td>255.0</td>\n",
       "      <td>0.0</td>\n",
       "      <td>NaN</td>\n",
       "      <td>NaN</td>\n",
       "    </tr>\n",
       "  </tbody>\n",
       "</table>\n",
       "</div>"
      ],
      "text/plain": [
       "                  Item    Category      Pt_Cnt  Percent   Z_Min    Z_Max  \\\n",
       "12      1_Unclassified  ClassCodes  55325281.0    79.70  681.72  1329.68   \n",
       "13            2_Ground  ClassCodes  14060647.0    20.25  681.42  1253.38   \n",
       "14  7_Low_Point(noise)  ClassCodes     33993.0     0.05  615.28  2307.31   \n",
       "\n",
       "    Intensity_Min  Intensity_Max  Synthetic_Pt_Cnt  Range_Min  Range_Max  \n",
       "12            0.0          255.0               0.0        NaN        NaN  \n",
       "13            0.0          255.0               0.0        NaN        NaN  \n",
       "14            0.0          255.0               0.0        NaN        NaN  "
      ]
     },
     "execution_count": 24,
     "metadata": {},
     "output_type": "execute_result"
    }
   ],
   "source": [
    "#arcpy.LasDatasetStatistics_management (las_dataset, \"#\", f'{out_directory}{project}\\\\stats.csv', \"#\", \"#\", \"#\")\n",
    "with open(f'{out_directory}{project}\\\\stats.csv', encoding='utf-8') as csv:\n",
    "    reader = pd.read_csv(csv)\n",
    "    # Create pandas data frame that\n",
    "    pdData = pd.DataFrame(reader)\n",
    "\n",
    "pdData[pdData[\"Category\"] == \"ClassCodes\"]"
   ]
  },
  {
   "cell_type": "code",
   "execution_count": 25,
   "metadata": {},
   "outputs": [
    {
     "data": {
      "text/plain": [
       "<Result 'C:\\\\DylanGIS\\\\rrg\\\\LabSeven\\\\workspace.gdb\\\\LabSeven_hillshade'>"
      ]
     },
     "execution_count": 25,
     "metadata": {},
     "output_type": "execute_result"
    }
   ],
   "source": [
    "# default ground classes\n",
    "las_ground = [2]\n",
    "\n",
    "# Filter for ground points and create DEM and hillshade\n",
    "arcpy.MakeLasDatasetLayer_management (las_dataset, f'{lidar}ground', las_ground)\n",
    "arcpy.LasDatasetToRaster_conversion (f'{lidar}ground', f'{project}_dem_5ft', \"#\", \"#\", \"#\", \"#\", 5)\n",
    "arcpy.HillShade_3d(f'{project}_dem_5ft', f'{project}_hillshade', 270, 55)"
   ]
  },
  {
   "cell_type": "code",
   "execution_count": 26,
   "metadata": {},
   "outputs": [
    {
     "data": {
      "text/plain": [
       "<Result 'C:\\\\DylanGIS\\\\rrg\\\\LabSeven\\\\workspace.gdb\\\\temp'>"
      ]
     },
     "execution_count": 26,
     "metadata": {},
     "output_type": "execute_result"
    }
   ],
   "source": [
    "# Create a temp layer to find which NAIP files to download\n",
    "arcpy.RasterDomain_3d (f'{project}_hillshade', 'domain', 'POLYGON')\n",
    "arcpy.Intersect_analysis (['domain', naip_grid], \"temp\")"
   ]
  },
  {
   "cell_type": "code",
   "execution_count": 27,
   "metadata": {},
   "outputs": [
    {
     "name": "stdout",
     "output_type": "stream",
     "text": [
      "[('N053E176', 'ftp://ftp.kymartian.ky.gov/FSA_NAIP_2016_2FT/ky_2ft_naip_2016_N053E176.zip'), ('N054E176', 'ftp://ftp.kymartian.ky.gov/FSA_NAIP_2016_2FT/ky_2ft_naip_2016_N054E176.zip')]\n"
     ]
    }
   ],
   "source": [
    "# Find URLs, download them and extract \n",
    "cursor = arcpy.da.SearchCursor(\"temp\", ['ftppath16', 'TileName'])\n",
    "naip_names = []\n",
    "for row in cursor:\n",
    "    url = row[0]\n",
    "    name = row[1]\n",
    "    naip_names.append((name, url))\n",
    "print(naip_names)"
   ]
  },
  {
   "cell_type": "code",
   "execution_count": 28,
   "metadata": {},
   "outputs": [
    {
     "name": "stdout",
     "output_type": "stream",
     "text": [
      "focal_stats_40ft\n",
      "cliffs_over_40ft\n",
      "LabSeven_dem_5ft\n",
      "LabSeven_hillshade\n",
      "N053E176\n",
      "N054E176\n"
     ]
    }
   ],
   "source": [
    "# Find URLs, download them and extract \n",
    "cursor = arcpy.da.SearchCursor(\"temp\", ['ftppath16', 'TileName'])\n",
    "naip_names = []\n",
    "for row in cursor:\n",
    "    name = row[1]\n",
    "    naip_names.append(name)\n",
    "    arcpy.CopyRaster_management (f'{workspace}\\\\{naip_prefix}{name}.jpg', name)\n",
    "\n",
    "rasterLayers = arcpy.ListRasters()\n",
    "\n",
    "for rl in rasterLayers: \n",
    "    print(rl)"
   ]
  },
  {
   "cell_type": "code",
   "execution_count": 29,
   "metadata": {},
   "outputs": [
    {
     "name": "stdout",
     "output_type": "stream",
     "text": [
      "C:\\DylanGIS\\rrg\\LabSeven\\workspace.gdb\n",
      "['N053E176', 'N054E176']\n"
     ]
    }
   ],
   "source": [
    "print(out_path)\n",
    "print(naip_names)"
   ]
  },
  {
   "cell_type": "code",
   "execution_count": 41,
   "metadata": {},
   "outputs": [
    {
     "ename": "ExecuteError",
     "evalue": "ERROR 999999: Something unexpected caused the tool to fail. Contact Esri Technical Support (http://esriurl.com/support) to Report a Bug, and refer to the error help for potential solutions or workarounds.\nFailed to execute (MosaicToNewRaster).\n",
     "output_type": "error",
     "traceback": [
      "\u001b[1;31m---------------------------------------------------------------------------\u001b[0m",
      "\u001b[1;31mExecuteError\u001b[0m                              Traceback (most recent call last)",
      "\u001b[1;32m<ipython-input-41-54f64fb90609>\u001b[0m in \u001b[0;36m<module>\u001b[1;34m\u001b[0m\n\u001b[0;32m      1\u001b[0m \u001b[1;31m# If multiple NAIPs, then mosaic to new raster and clip\u001b[0m\u001b[1;33m\u001b[0m\u001b[1;33m\u001b[0m\u001b[1;33m\u001b[0m\u001b[0m\n\u001b[0;32m      2\u001b[0m \u001b[1;32mif\u001b[0m \u001b[0mlen\u001b[0m\u001b[1;33m(\u001b[0m\u001b[0mnaip_names\u001b[0m\u001b[1;33m)\u001b[0m \u001b[1;33m>\u001b[0m \u001b[1;36m1\u001b[0m\u001b[1;33m:\u001b[0m\u001b[1;33m\u001b[0m\u001b[1;33m\u001b[0m\u001b[0m\n\u001b[1;32m----> 3\u001b[1;33m     \u001b[0marcpy\u001b[0m\u001b[1;33m.\u001b[0m\u001b[0mMosaicToNewRaster_management\u001b[0m \u001b[1;33m(\u001b[0m\u001b[0mnaip_names\u001b[0m\u001b[1;33m,\u001b[0m \u001b[0mout_path\u001b[0m\u001b[1;33m,\u001b[0m \u001b[1;34m\"temp\"\u001b[0m\u001b[1;33m,\u001b[0m \u001b[1;34m\"#\"\u001b[0m\u001b[1;33m,\u001b[0m \u001b[1;34m\"#\"\u001b[0m\u001b[1;33m,\u001b[0m \u001b[1;34m\"#\"\u001b[0m\u001b[1;33m,\u001b[0m \u001b[1;36m3\u001b[0m\u001b[1;33m,\u001b[0m \u001b[1;34m\"#\"\u001b[0m\u001b[1;33m,\u001b[0m \u001b[1;34m\"#\"\u001b[0m\u001b[1;33m)\u001b[0m\u001b[1;33m\u001b[0m\u001b[1;33m\u001b[0m\u001b[0m\n\u001b[0m\u001b[0;32m      4\u001b[0m     \u001b[0marcpy\u001b[0m\u001b[1;33m.\u001b[0m\u001b[0mClip_management\u001b[0m \u001b[1;33m(\u001b[0m\u001b[1;34m'temp'\u001b[0m\u001b[1;33m,\u001b[0m \u001b[1;34m'#'\u001b[0m\u001b[1;33m,\u001b[0m \u001b[1;34mf'{project}_naip'\u001b[0m\u001b[1;33m,\u001b[0m \u001b[1;34m'domain'\u001b[0m\u001b[1;33m)\u001b[0m\u001b[1;33m\u001b[0m\u001b[1;33m\u001b[0m\u001b[0m\n\u001b[0;32m      5\u001b[0m \u001b[1;32melse\u001b[0m\u001b[1;33m:\u001b[0m\u001b[1;33m\u001b[0m\u001b[1;33m\u001b[0m\u001b[0m\n",
      "\u001b[1;32m~\\AppData\\Local\\Programs\\ArcGIS\\Pro\\Resources\\ArcPy\\arcpy\\management.py\u001b[0m in \u001b[0;36mMosaicToNewRaster\u001b[1;34m(input_rasters, output_location, raster_dataset_name_with_extension, coordinate_system_for_the_raster, pixel_type, cellsize, number_of_bands, mosaic_method, mosaic_colormap_mode)\u001b[0m\n\u001b[0;32m  16610\u001b[0m         \u001b[1;32mreturn\u001b[0m \u001b[0mretval\u001b[0m\u001b[1;33m\u001b[0m\u001b[1;33m\u001b[0m\u001b[0m\n\u001b[0;32m  16611\u001b[0m     \u001b[1;32mexcept\u001b[0m \u001b[0mException\u001b[0m \u001b[1;32mas\u001b[0m \u001b[0me\u001b[0m\u001b[1;33m:\u001b[0m\u001b[1;33m\u001b[0m\u001b[1;33m\u001b[0m\u001b[0m\n\u001b[1;32m> 16612\u001b[1;33m         \u001b[1;32mraise\u001b[0m \u001b[0me\u001b[0m\u001b[1;33m\u001b[0m\u001b[1;33m\u001b[0m\u001b[0m\n\u001b[0m\u001b[0;32m  16613\u001b[0m \u001b[1;33m\u001b[0m\u001b[0m\n\u001b[0;32m  16614\u001b[0m \u001b[1;33m@\u001b[0m\u001b[0mgptooldoc\u001b[0m\u001b[1;33m(\u001b[0m\u001b[1;34m'WorkspaceToRasterDataset_management'\u001b[0m\u001b[1;33m,\u001b[0m \u001b[1;32mNone\u001b[0m\u001b[1;33m)\u001b[0m\u001b[1;33m\u001b[0m\u001b[1;33m\u001b[0m\u001b[0m\n",
      "\u001b[1;32m~\\AppData\\Local\\Programs\\ArcGIS\\Pro\\Resources\\ArcPy\\arcpy\\management.py\u001b[0m in \u001b[0;36mMosaicToNewRaster\u001b[1;34m(input_rasters, output_location, raster_dataset_name_with_extension, coordinate_system_for_the_raster, pixel_type, cellsize, number_of_bands, mosaic_method, mosaic_colormap_mode)\u001b[0m\n\u001b[0;32m  16607\u001b[0m     \u001b[1;32mfrom\u001b[0m \u001b[0marcpy\u001b[0m\u001b[1;33m.\u001b[0m\u001b[0marcobjects\u001b[0m\u001b[1;33m.\u001b[0m\u001b[0marcobjectconversion\u001b[0m \u001b[1;32mimport\u001b[0m \u001b[0mconvertArcObjectToPythonObject\u001b[0m\u001b[1;33m\u001b[0m\u001b[1;33m\u001b[0m\u001b[0m\n\u001b[0;32m  16608\u001b[0m     \u001b[1;32mtry\u001b[0m\u001b[1;33m:\u001b[0m\u001b[1;33m\u001b[0m\u001b[1;33m\u001b[0m\u001b[0m\n\u001b[1;32m> 16609\u001b[1;33m         \u001b[0mretval\u001b[0m \u001b[1;33m=\u001b[0m \u001b[0mconvertArcObjectToPythonObject\u001b[0m\u001b[1;33m(\u001b[0m\u001b[0mgp\u001b[0m\u001b[1;33m.\u001b[0m\u001b[0mMosaicToNewRaster_management\u001b[0m\u001b[1;33m(\u001b[0m\u001b[1;33m*\u001b[0m\u001b[0mgp_fixargs\u001b[0m\u001b[1;33m(\u001b[0m\u001b[1;33m(\u001b[0m\u001b[0minput_rasters\u001b[0m\u001b[1;33m,\u001b[0m \u001b[0moutput_location\u001b[0m\u001b[1;33m,\u001b[0m \u001b[0mraster_dataset_name_with_extension\u001b[0m\u001b[1;33m,\u001b[0m \u001b[0mcoordinate_system_for_the_raster\u001b[0m\u001b[1;33m,\u001b[0m \u001b[0mpixel_type\u001b[0m\u001b[1;33m,\u001b[0m \u001b[0mcellsize\u001b[0m\u001b[1;33m,\u001b[0m \u001b[0mnumber_of_bands\u001b[0m\u001b[1;33m,\u001b[0m \u001b[0mmosaic_method\u001b[0m\u001b[1;33m,\u001b[0m \u001b[0mmosaic_colormap_mode\u001b[0m\u001b[1;33m)\u001b[0m\u001b[1;33m,\u001b[0m \u001b[1;32mTrue\u001b[0m\u001b[1;33m)\u001b[0m\u001b[1;33m)\u001b[0m\u001b[1;33m)\u001b[0m\u001b[1;33m\u001b[0m\u001b[1;33m\u001b[0m\u001b[0m\n\u001b[0m\u001b[0;32m  16610\u001b[0m         \u001b[1;32mreturn\u001b[0m \u001b[0mretval\u001b[0m\u001b[1;33m\u001b[0m\u001b[1;33m\u001b[0m\u001b[0m\n\u001b[0;32m  16611\u001b[0m     \u001b[1;32mexcept\u001b[0m \u001b[0mException\u001b[0m \u001b[1;32mas\u001b[0m \u001b[0me\u001b[0m\u001b[1;33m:\u001b[0m\u001b[1;33m\u001b[0m\u001b[1;33m\u001b[0m\u001b[0m\n",
      "\u001b[1;32m~\\AppData\\Local\\Programs\\ArcGIS\\Pro\\Resources\\ArcPy\\arcpy\\geoprocessing\\_base.py\u001b[0m in \u001b[0;36m<lambda>\u001b[1;34m(*args)\u001b[0m\n\u001b[0;32m    504\u001b[0m         \u001b[0mval\u001b[0m \u001b[1;33m=\u001b[0m \u001b[0mgetattr\u001b[0m\u001b[1;33m(\u001b[0m\u001b[0mself\u001b[0m\u001b[1;33m.\u001b[0m\u001b[0m_gp\u001b[0m\u001b[1;33m,\u001b[0m \u001b[0mattr\u001b[0m\u001b[1;33m)\u001b[0m\u001b[1;33m\u001b[0m\u001b[1;33m\u001b[0m\u001b[0m\n\u001b[0;32m    505\u001b[0m         \u001b[1;32mif\u001b[0m \u001b[0mcallable\u001b[0m\u001b[1;33m(\u001b[0m\u001b[0mval\u001b[0m\u001b[1;33m)\u001b[0m\u001b[1;33m:\u001b[0m\u001b[1;33m\u001b[0m\u001b[1;33m\u001b[0m\u001b[0m\n\u001b[1;32m--> 506\u001b[1;33m             \u001b[1;32mreturn\u001b[0m \u001b[1;32mlambda\u001b[0m \u001b[1;33m*\u001b[0m\u001b[0margs\u001b[0m\u001b[1;33m:\u001b[0m \u001b[0mval\u001b[0m\u001b[1;33m(\u001b[0m\u001b[1;33m*\u001b[0m\u001b[0mgp_fixargs\u001b[0m\u001b[1;33m(\u001b[0m\u001b[0margs\u001b[0m\u001b[1;33m,\u001b[0m \u001b[1;32mTrue\u001b[0m\u001b[1;33m)\u001b[0m\u001b[1;33m)\u001b[0m\u001b[1;33m\u001b[0m\u001b[1;33m\u001b[0m\u001b[0m\n\u001b[0m\u001b[0;32m    507\u001b[0m         \u001b[1;32melse\u001b[0m\u001b[1;33m:\u001b[0m\u001b[1;33m\u001b[0m\u001b[1;33m\u001b[0m\u001b[0m\n\u001b[0;32m    508\u001b[0m             \u001b[1;32mreturn\u001b[0m \u001b[0mconvertArcObjectToPythonObject\u001b[0m\u001b[1;33m(\u001b[0m\u001b[0mval\u001b[0m\u001b[1;33m)\u001b[0m\u001b[1;33m\u001b[0m\u001b[1;33m\u001b[0m\u001b[0m\n",
      "\u001b[1;31mExecuteError\u001b[0m: ERROR 999999: Something unexpected caused the tool to fail. Contact Esri Technical Support (http://esriurl.com/support) to Report a Bug, and refer to the error help for potential solutions or workarounds.\nFailed to execute (MosaicToNewRaster).\n"
     ]
    }
   ],
   "source": [
    "# If multiple NAIPs, then mosaic to new raster and clip\n",
    "if len(naip_names) > 1:\n",
    "    arcpy.MosaicToNewRaster_management (naip_names, out_path, \"temp\", \"#\", \"#\", \"#\", 3, \"#\", \"#\")\n",
    "    arcpy.Clip_management ('temp', '#', f'{project}_naip', 'domain')\n",
    "else:\n",
    "    arcpy.Clip_management (naip_names[0], '#', f'{project}_naip', 'domain')"
   ]
  },
  {
   "cell_type": "code",
   "execution_count": 23,
   "metadata": {},
   "outputs": [
    {
     "name": "stdout",
     "output_type": "stream",
     "text": [
      "focal_stats_40ft\n",
      "cliffs_over_40ft\n",
      "LabSeven_dem_5ft\n",
      "LabSeven_hillshade\n",
      "N053E176\n",
      "N054E176\n"
     ]
    }
   ],
   "source": [
    "rasterLayers = arcpy.ListRasters()\n",
    "\n",
    "for rl in rasterLayers: \n",
    "    print(rl)"
   ]
  },
  {
   "cell_type": "code",
   "execution_count": null,
   "metadata": {},
   "outputs": [],
   "source": [
    "# Extract LAS points in buffer and colorize\n",
    "arcpy.ExtractLas_3d (las_dataset, lidar, f'{point_name}_{buffer_distance}ft', \"#\", \"#\", \"_extract\", \"#\", \"#\", True, f'{lidar}extractedTemp.lasd')\n",
    "arcpy.ColorizeLas_3d (f'{lidar}extractedTemp.lasd', f'{project}_naip', 'RED Band_1; GREEN Band_2; BLUE Band_3', lidar_color, \"_color\", \"#\",  \"#\",  \"#\",  \"#\", True, f'{lidar_color}{project}_rgb.lasd')\n"
   ]
  },
  {
   "cell_type": "code",
   "execution_count": null,
   "metadata": {},
   "outputs": [],
   "source": [
    "# Create DSM of cliffs over 40 feet in 40-ft diameter neighborhood from bare-earth DEM\n",
    "neighborhood = arcpy.sa.NbrCircle(3,'CELL')\n",
    "outFocalStat = arcpy.sa.FocalStatistics(f'{project}_dem_5ft', neighborhood, \"RANGE\")\n",
    "outFocalStat.save(\"focal_stats_40ft\")\n",
    "cliffs_over_40ft = arcpy.sa.Con(outFocalStat > 40, outFocalStat)\n",
    "cliffs_over_40ft.save(\"cliffs_over_40ft\")"
   ]
  },
  {
   "cell_type": "code",
   "execution_count": null,
   "metadata": {},
   "outputs": [],
   "source": []
  }
 ],
 "metadata": {
  "kernelspec": {
   "display_name": "Python 3",
   "language": "python",
   "name": "python3"
  },
  "language_info": {
   "codemirror_mode": {
    "name": "ipython",
    "version": 3
   },
   "file_extension": ".py",
   "mimetype": "text/x-python",
   "name": "python",
   "nbconvert_exporter": "python",
   "pygments_lexer": "ipython3",
   "version": "3.6.8"
  }
 },
 "nbformat": 4,
 "nbformat_minor": 2
}
