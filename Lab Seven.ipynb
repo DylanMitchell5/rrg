{
 "cells": [
  {
   "cell_type": "code",
   "execution_count": 1,
   "metadata": {},
   "outputs": [],
   "source": [
    "# Import ArcGIS package\n",
    "import arcpy\n",
    "\n",
    "# pandas to view LAS statistics\n",
    "import pandas as pd"
   ]
  },
  {
   "cell_type": "code",
   "execution_count": 2,
   "metadata": {},
   "outputs": [],
   "source": [
    "# Subprocess allows us to issue commands on the command line\n",
    "import subprocess"
   ]
  },
  {
   "cell_type": "code",
   "execution_count": 3,
   "metadata": {},
   "outputs": [
    {
     "name": "stdout",
     "output_type": "stream",
     "text": [
      " Volume in drive C is WINDOWS\r\n",
      " Volume Serial Number is 7A8F-990D\r\n",
      "\r\n",
      " Directory of C:\\DylanGIS\\rrg\r\n",
      "\r\n",
      "12/07/2019  05:15 PM    <DIR>          .\r\n",
      "12/07/2019  05:15 PM    <DIR>          ..\r\n",
      "09/04/2019  09:55 AM                66 .gitattributes\r\n",
      "09/04/2019  09:55 AM             1,694 .gitignore\r\n",
      "12/07/2019  11:35 AM    <DIR>          .ipynb_checkpoints\r\n",
      "10/24/2019  05:34 PM    <DIR>          info\r\n",
      "12/07/2019  05:13 PM    <DIR>          LabSeven\r\n",
      "09/04/2019  09:55 AM            35,129 LICENSE\r\n",
      "12/03/2019  10:39 AM               216 readme.md\r\n",
      "10/24/2019  05:34 PM           748,546 RedRiverGorge.aprx\r\n",
      "09/10/2019  01:01 PM                 0 rrg\r\n",
      "10/24/2019  05:34 PM         2,626,615 rrgMap.pdf\r\n",
      "12/07/2019  05:15 PM             4,832 Untitled.ipynb\r\n",
      "               8 File(s)      3,417,098 bytes\r\n",
      "               5 Dir(s)  878,343,536,640 bytes free\r\n",
      "\n"
     ]
    }
   ],
   "source": [
    "# Create a variable of the output and then decode it.\n",
    "completed = subprocess.run(f'dir',  shell=True, stdout=subprocess.PIPE)\n",
    "print(completed.stdout.decode('UTF-8'))"
   ]
  },
  {
   "cell_type": "code",
   "execution_count": 4,
   "metadata": {},
   "outputs": [],
   "source": [
    "# Directory for project \n",
    "out_directory = f'C:\\\\DylanGIS\\\\rrg\\\\'\n",
    "\n",
    "# Project name - creates a folder in project directory\n",
    "project = 'LabSeven'\n",
    "\n",
    "# Name of point layer and buffer distance from point\n",
    "point_name = 'LabSeven_pt'\n",
    "buffer_distance = 1000\n",
    "\n",
    "# Output geodatabase name\n",
    "out_geodb = 'workspace.gdb'\n",
    "\n",
    "# Locations of index grids\n",
    "las_grid = f'C:\\\\DylanGIS\\\\data\\\\data_pointcloud_grid\\\\lidar_grid.gdb\\\\KY_5k_PointClound_grid'\n",
    "naip_grid = f'C:\\\\DylanGIS\\\\data\\\\data_pointcloud_grid\\\\Kentucky_10K_NAIP.shp'\n",
    "\n",
    "# NAIP files have prefix\n",
    "naip_prefix = 'ky_2ft_naip_2016_'\n",
    "\n",
    "# Point the script to the directory with the laszip64.exe\n",
    "las_tools = [f'C:\\\\DylanGIS\\\\data\\\\data_pointcloud_grid\\\\', 'laszip64.exe']\n",
    "\n",
    "# Downloads and lidar folders\n",
    "downloads = f'{out_directory}{project}\\\\downloads\\\\'\n",
    "lidar = f'{out_directory}{project}\\\\lidar\\\\'\n",
    "lidar_color = f'{out_directory}{project}\\\\lidar_color\\\\'\n",
    "\n",
    "# LAS dataset name, temp list, and class codes\n",
    "las_dataset = f'{lidar}{project}.lasd'\n",
    "las_ground = [2, 9]"
   ]
  },
  {
   "cell_type": "code",
   "execution_count": 5,
   "metadata": {},
   "outputs": [
    {
     "data": {
      "text/plain": [
       "CompletedProcess(args='mkdir C:\\\\DylanGIS\\\\rrg\\\\LabSeven\\\\lidar_color', returncode=0)"
      ]
     },
     "execution_count": 5,
     "metadata": {},
     "output_type": "execute_result"
    }
   ],
   "source": [
    "# Create folders and copy laszip64.exe\n",
    "subprocess.run(f'mkdir {out_directory}{project}', shell=True)\n",
    "subprocess.run(f'mkdir {out_directory}{project}\\\\downloads', shell=True)\n",
    "subprocess.run(f'mkdir {out_directory}{project}\\\\lidar', shell=True)\n",
    "subprocess.run(f'mkdir {out_directory}{project}\\\\lidar_color', shell=True)"
   ]
  },
  {
   "cell_type": "code",
   "execution_count": 6,
   "metadata": {},
   "outputs": [
    {
     "name": "stdout",
     "output_type": "stream",
     "text": [
      "        1 file(s) copied.\r\n",
      "\n"
     ]
    }
   ],
   "source": [
    "# Copy laszip64.exe tool\n",
    "completed = subprocess.run(f'copy {las_tools[0]}{las_tools[1]} {downloads}', shell=True, stdout=subprocess.PIPE)\n",
    "print(completed.stdout.decode('UTF-8'))"
   ]
  },
  {
   "cell_type": "code",
   "execution_count": 7,
   "metadata": {},
   "outputs": [
    {
     "name": "stdout",
     "output_type": "stream",
     "text": [
      "Created: workspace.gdb\n"
     ]
    }
   ],
   "source": [
    "arcpy.env.overwriteOutput = True\n",
    "\n",
    "# Create project geodatabase\n",
    "\n",
    "# Use ArcPY function to check if asset exists\n",
    "if arcpy.Exists(f'{out_directory}{project}\\\\{out_geodb}'):\n",
    "    # If it does, print out the location.\n",
    "    print(f\"{out_directory}{project}\\\\{out_geodb} geodatabase ready for action!\")\n",
    "else:\n",
    "    # Else if it doesn't create it and print location\n",
    "    arcpy.CreateFileGDB_management(f'{out_directory}{project}', out_geodb)\n",
    "    print(f\"Created: {out_geodb}\")\n",
    "\n",
    "\n",
    "# Create project default geodatabase\n",
    "out_path = f'{out_directory}{project}\\\\{out_geodb}'\n",
    "arcpy.env.workspace = out_path\n",
    "\n",
    "\n",
    "# Create default spatial reference setting\n",
    "spatial_reference = arcpy.Describe(las_grid).spatialReference"
   ]
  },
  {
   "cell_type": "code",
   "execution_count": 8,
   "metadata": {},
   "outputs": [
    {
     "data": {
      "text/plain": [
       "<Result 'C:\\\\DylanGIS\\\\rrg\\\\LabSeven\\\\workspace.gdb\\\\LabSeven_pt'>"
      ]
     },
     "execution_count": 8,
     "metadata": {},
     "output_type": "execute_result"
    }
   ],
   "source": [
    "# Create empty point layer\n",
    "arcpy.CreateFeatureclass_management(out_path, point_name, \"POINT\", \"#\", \"#\", \"#\", spatial_reference)"
   ]
  },
  {
   "cell_type": "code",
   "execution_count": null,
   "metadata": {},
   "outputs": [],
   "source": []
  }
 ],
 "metadata": {
  "kernelspec": {
   "display_name": "Python 3",
   "language": "python",
   "name": "python3"
  },
  "language_info": {
   "codemirror_mode": {
    "name": "ipython",
    "version": 3
   },
   "file_extension": ".py",
   "mimetype": "text/x-python",
   "name": "python",
   "nbconvert_exporter": "python",
   "pygments_lexer": "ipython3",
   "version": "3.6.8"
  }
 },
 "nbformat": 4,
 "nbformat_minor": 2
}
